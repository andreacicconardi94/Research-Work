{
 "cells": [
  {
   "cell_type": "code",
   "execution_count": 1,
   "id": "3b232b63-4bb3-4094-9fc0-863ae3d3c4d7",
   "metadata": {
    "scrolled": true
   },
   "outputs": [],
   "source": [
    "%matplotlib qt\n",
    "import importlib\n",
    "import sem_patch_extractor.patches\n",
    "importlib.reload(sem_patch_extractor.patches)\n",
    "\n",
    "from sem_patch_extractor import extract_patches_by_scalebar"
   ]
  },
  {
   "cell_type": "code",
   "execution_count": 2,
   "id": "ec903f83-4351-4bf8-ad80-b34503441408",
   "metadata": {},
   "outputs": [
    {
     "name": "stdout",
     "output_type": "stream",
     "text": [
      "35 patch salvate in 'C:\\Users\\acicconardi\\Documents\\Monaco\\Immagini\\GaN\\patches_output\\AIX_07'.\n"
     ]
    }
   ],
   "source": [
    "# Percorsi alle immagini\n",
    "scalebar_image = r\"C:\\Users\\acicconardi\\Documents\\Monaco\\Immagini\\GaN\\AIX_07.tif\"     # immagine SEM con scalebar visibile\n",
    "full_image = r\"C:\\Users\\acicconardi\\Documents\\Monaco\\Immagini\\GaN\\PlainImages\\AIX_07.tif\"      # immagine SEM completa da tagliare\n",
    "save_dir = r\"C:\\Users\\acicconardi\\Documents\\Monaco\\Immagini\\GaN\\patches_output\\AIX_07\"                   # cartella di output per le patch\n",
    "\n",
    "# Parametri\n",
    "patch_um = 3      # lato delle patch in micrometri\n",
    "overlap = 0       # sovrapposizione in pixel tra le patch\n",
    "\n",
    "# Estrazione patch (guidata da clic utente)\n",
    "patches = extract_patches_by_scalebar(\n",
    "    scalebar_image=scalebar_image,\n",
    "    full_image=full_image,\n",
    "    save_dir=save_dir,\n",
    "    patch_um=patch_um,\n",
    "    overlap=overlap\n",
    ")\n",
    "\n",
    "print(f\"{len(patches)} patch salvate in '{save_dir}'.\")"
   ]
  }
 ],
 "metadata": {
  "kernelspec": {
   "display_name": "Python 3 (ipykernel)",
   "language": "python",
   "name": "python3"
  },
  "language_info": {
   "codemirror_mode": {
    "name": "ipython",
    "version": 3
   },
   "file_extension": ".py",
   "mimetype": "text/x-python",
   "name": "python",
   "nbconvert_exporter": "python",
   "pygments_lexer": "ipython3",
   "version": "3.9.23"
  }
 },
 "nbformat": 4,
 "nbformat_minor": 5
}
