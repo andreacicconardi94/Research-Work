{
 "cells": [
  {
   "cell_type": "code",
   "execution_count": 2,
   "id": "3b232b63-4bb3-4094-9fc0-863ae3d3c4d7",
   "metadata": {
    "scrolled": true
   },
   "outputs": [
    {
     "ename": "ImportError",
     "evalue": "cannot import name 'plot_scalebar_detection' from 'sem_patch_extractor' (C:\\Users\\acicconardi\\Documents\\Monaco\\Codes\\sem_patch_extractor.py)",
     "output_type": "error",
     "traceback": [
      "\u001b[1;31m---------------------------------------------------------------------------\u001b[0m",
      "\u001b[1;31mImportError\u001b[0m                               Traceback (most recent call last)",
      "Cell \u001b[1;32mIn[2], line 1\u001b[0m\n\u001b[1;32m----> 1\u001b[0m \u001b[38;5;28;01mfrom\u001b[39;00m\u001b[38;5;250m \u001b[39m\u001b[38;5;21;01msem_patch_extractor\u001b[39;00m\u001b[38;5;250m \u001b[39m\u001b[38;5;28;01mimport\u001b[39;00m plot_scalebar_detection\n",
      "\u001b[1;31mImportError\u001b[0m: cannot import name 'plot_scalebar_detection' from 'sem_patch_extractor' (C:\\Users\\acicconardi\\Documents\\Monaco\\Codes\\sem_patch_extractor.py)"
     ]
    }
   ],
   "source": [
    "from sem_patch_extractor import plot_scalebar_detection"
   ]
  },
  {
   "cell_type": "code",
   "execution_count": 4,
   "id": "92b15278-287f-4d98-bfc7-ec84abdc9ea3",
   "metadata": {
    "scrolled": true
   },
   "outputs": [
    {
     "data": {
      "text/plain": [
       "['C:\\\\Users\\\\acicconardi\\\\Documents\\\\Monaco\\\\Immagini\\\\OneDrive_1_6-30-2025\\\\Result\\\\AIX_19_patch_0000.png',\n",
       " 'C:\\\\Users\\\\acicconardi\\\\Documents\\\\Monaco\\\\Immagini\\\\OneDrive_1_6-30-2025\\\\Result\\\\AIX_19_patch_0001.png',\n",
       " 'C:\\\\Users\\\\acicconardi\\\\Documents\\\\Monaco\\\\Immagini\\\\OneDrive_1_6-30-2025\\\\Result\\\\AIX_19_patch_0002.png',\n",
       " 'C:\\\\Users\\\\acicconardi\\\\Documents\\\\Monaco\\\\Immagini\\\\OneDrive_1_6-30-2025\\\\Result\\\\AIX_19_patch_0003.png',\n",
       " 'C:\\\\Users\\\\acicconardi\\\\Documents\\\\Monaco\\\\Immagini\\\\OneDrive_1_6-30-2025\\\\Result\\\\AIX_19_patch_0004.png',\n",
       " 'C:\\\\Users\\\\acicconardi\\\\Documents\\\\Monaco\\\\Immagini\\\\OneDrive_1_6-30-2025\\\\Result\\\\AIX_19_patch_0005.png',\n",
       " 'C:\\\\Users\\\\acicconardi\\\\Documents\\\\Monaco\\\\Immagini\\\\OneDrive_1_6-30-2025\\\\Result\\\\AIX_19_patch_0006.png',\n",
       " 'C:\\\\Users\\\\acicconardi\\\\Documents\\\\Monaco\\\\Immagini\\\\OneDrive_1_6-30-2025\\\\Result\\\\AIX_19_patch_0007.png',\n",
       " 'C:\\\\Users\\\\acicconardi\\\\Documents\\\\Monaco\\\\Immagini\\\\OneDrive_1_6-30-2025\\\\Result\\\\AIX_19_patch_0008.png',\n",
       " 'C:\\\\Users\\\\acicconardi\\\\Documents\\\\Monaco\\\\Immagini\\\\OneDrive_1_6-30-2025\\\\Result\\\\AIX_19_patch_0009.png',\n",
       " 'C:\\\\Users\\\\acicconardi\\\\Documents\\\\Monaco\\\\Immagini\\\\OneDrive_1_6-30-2025\\\\Result\\\\AIX_19_patch_0010.png',\n",
       " 'C:\\\\Users\\\\acicconardi\\\\Documents\\\\Monaco\\\\Immagini\\\\OneDrive_1_6-30-2025\\\\Result\\\\AIX_19_patch_0011.png',\n",
       " 'C:\\\\Users\\\\acicconardi\\\\Documents\\\\Monaco\\\\Immagini\\\\OneDrive_1_6-30-2025\\\\Result\\\\AIX_19_patch_0012.png',\n",
       " 'C:\\\\Users\\\\acicconardi\\\\Documents\\\\Monaco\\\\Immagini\\\\OneDrive_1_6-30-2025\\\\Result\\\\AIX_19_patch_0013.png',\n",
       " 'C:\\\\Users\\\\acicconardi\\\\Documents\\\\Monaco\\\\Immagini\\\\OneDrive_1_6-30-2025\\\\Result\\\\AIX_19_patch_0014.png',\n",
       " 'C:\\\\Users\\\\acicconardi\\\\Documents\\\\Monaco\\\\Immagini\\\\OneDrive_1_6-30-2025\\\\Result\\\\AIX_19_patch_0015.png',\n",
       " 'C:\\\\Users\\\\acicconardi\\\\Documents\\\\Monaco\\\\Immagini\\\\OneDrive_1_6-30-2025\\\\Result\\\\AIX_19_patch_0016.png',\n",
       " 'C:\\\\Users\\\\acicconardi\\\\Documents\\\\Monaco\\\\Immagini\\\\OneDrive_1_6-30-2025\\\\Result\\\\AIX_19_patch_0017.png',\n",
       " 'C:\\\\Users\\\\acicconardi\\\\Documents\\\\Monaco\\\\Immagini\\\\OneDrive_1_6-30-2025\\\\Result\\\\AIX_19_patch_0018.png',\n",
       " 'C:\\\\Users\\\\acicconardi\\\\Documents\\\\Monaco\\\\Immagini\\\\OneDrive_1_6-30-2025\\\\Result\\\\AIX_19_patch_0019.png',\n",
       " 'C:\\\\Users\\\\acicconardi\\\\Documents\\\\Monaco\\\\Immagini\\\\OneDrive_1_6-30-2025\\\\Result\\\\AIX_19_patch_0020.png',\n",
       " 'C:\\\\Users\\\\acicconardi\\\\Documents\\\\Monaco\\\\Immagini\\\\OneDrive_1_6-30-2025\\\\Result\\\\AIX_19_patch_0021.png',\n",
       " 'C:\\\\Users\\\\acicconardi\\\\Documents\\\\Monaco\\\\Immagini\\\\OneDrive_1_6-30-2025\\\\Result\\\\AIX_19_patch_0022.png',\n",
       " 'C:\\\\Users\\\\acicconardi\\\\Documents\\\\Monaco\\\\Immagini\\\\OneDrive_1_6-30-2025\\\\Result\\\\AIX_19_patch_0023.png',\n",
       " 'C:\\\\Users\\\\acicconardi\\\\Documents\\\\Monaco\\\\Immagini\\\\OneDrive_1_6-30-2025\\\\Result\\\\AIX_19_patch_0024.png',\n",
       " 'C:\\\\Users\\\\acicconardi\\\\Documents\\\\Monaco\\\\Immagini\\\\OneDrive_1_6-30-2025\\\\Result\\\\AIX_19_patch_0025.png',\n",
       " 'C:\\\\Users\\\\acicconardi\\\\Documents\\\\Monaco\\\\Immagini\\\\OneDrive_1_6-30-2025\\\\Result\\\\AIX_19_patch_0026.png',\n",
       " 'C:\\\\Users\\\\acicconardi\\\\Documents\\\\Monaco\\\\Immagini\\\\OneDrive_1_6-30-2025\\\\Result\\\\AIX_19_patch_0027.png',\n",
       " 'C:\\\\Users\\\\acicconardi\\\\Documents\\\\Monaco\\\\Immagini\\\\OneDrive_1_6-30-2025\\\\Result\\\\AIX_19_patch_0028.png',\n",
       " 'C:\\\\Users\\\\acicconardi\\\\Documents\\\\Monaco\\\\Immagini\\\\OneDrive_1_6-30-2025\\\\Result\\\\AIX_19_patch_0029.png',\n",
       " 'C:\\\\Users\\\\acicconardi\\\\Documents\\\\Monaco\\\\Immagini\\\\OneDrive_1_6-30-2025\\\\Result\\\\AIX_19_patch_0030.png',\n",
       " 'C:\\\\Users\\\\acicconardi\\\\Documents\\\\Monaco\\\\Immagini\\\\OneDrive_1_6-30-2025\\\\Result\\\\AIX_19_patch_0031.png',\n",
       " 'C:\\\\Users\\\\acicconardi\\\\Documents\\\\Monaco\\\\Immagini\\\\OneDrive_1_6-30-2025\\\\Result\\\\AIX_19_patch_0032.png',\n",
       " 'C:\\\\Users\\\\acicconardi\\\\Documents\\\\Monaco\\\\Immagini\\\\OneDrive_1_6-30-2025\\\\Result\\\\AIX_19_patch_0033.png',\n",
       " 'C:\\\\Users\\\\acicconardi\\\\Documents\\\\Monaco\\\\Immagini\\\\OneDrive_1_6-30-2025\\\\Result\\\\AIX_19_patch_0034.png',\n",
       " 'C:\\\\Users\\\\acicconardi\\\\Documents\\\\Monaco\\\\Immagini\\\\OneDrive_1_6-30-2025\\\\Result\\\\AIX_19_patch_0035.png',\n",
       " 'C:\\\\Users\\\\acicconardi\\\\Documents\\\\Monaco\\\\Immagini\\\\OneDrive_1_6-30-2025\\\\Result\\\\AIX_19_patch_0036.png',\n",
       " 'C:\\\\Users\\\\acicconardi\\\\Documents\\\\Monaco\\\\Immagini\\\\OneDrive_1_6-30-2025\\\\Result\\\\AIX_19_patch_0037.png',\n",
       " 'C:\\\\Users\\\\acicconardi\\\\Documents\\\\Monaco\\\\Immagini\\\\OneDrive_1_6-30-2025\\\\Result\\\\AIX_19_patch_0038.png',\n",
       " 'C:\\\\Users\\\\acicconardi\\\\Documents\\\\Monaco\\\\Immagini\\\\OneDrive_1_6-30-2025\\\\Result\\\\AIX_19_patch_0039.png',\n",
       " 'C:\\\\Users\\\\acicconardi\\\\Documents\\\\Monaco\\\\Immagini\\\\OneDrive_1_6-30-2025\\\\Result\\\\AIX_19_patch_0040.png',\n",
       " 'C:\\\\Users\\\\acicconardi\\\\Documents\\\\Monaco\\\\Immagini\\\\OneDrive_1_6-30-2025\\\\Result\\\\AIX_19_patch_0041.png',\n",
       " 'C:\\\\Users\\\\acicconardi\\\\Documents\\\\Monaco\\\\Immagini\\\\OneDrive_1_6-30-2025\\\\Result\\\\AIX_19_patch_0042.png',\n",
       " 'C:\\\\Users\\\\acicconardi\\\\Documents\\\\Monaco\\\\Immagini\\\\OneDrive_1_6-30-2025\\\\Result\\\\AIX_19_patch_0043.png',\n",
       " 'C:\\\\Users\\\\acicconardi\\\\Documents\\\\Monaco\\\\Immagini\\\\OneDrive_1_6-30-2025\\\\Result\\\\AIX_19_patch_0044.png',\n",
       " 'C:\\\\Users\\\\acicconardi\\\\Documents\\\\Monaco\\\\Immagini\\\\OneDrive_1_6-30-2025\\\\Result\\\\AIX_19_patch_0045.png',\n",
       " 'C:\\\\Users\\\\acicconardi\\\\Documents\\\\Monaco\\\\Immagini\\\\OneDrive_1_6-30-2025\\\\Result\\\\AIX_19_patch_0046.png',\n",
       " 'C:\\\\Users\\\\acicconardi\\\\Documents\\\\Monaco\\\\Immagini\\\\OneDrive_1_6-30-2025\\\\Result\\\\AIX_19_patch_0047.png',\n",
       " 'C:\\\\Users\\\\acicconardi\\\\Documents\\\\Monaco\\\\Immagini\\\\OneDrive_1_6-30-2025\\\\Result\\\\AIX_19_patch_0048.png',\n",
       " 'C:\\\\Users\\\\acicconardi\\\\Documents\\\\Monaco\\\\Immagini\\\\OneDrive_1_6-30-2025\\\\Result\\\\AIX_19_patch_0049.png',\n",
       " 'C:\\\\Users\\\\acicconardi\\\\Documents\\\\Monaco\\\\Immagini\\\\OneDrive_1_6-30-2025\\\\Result\\\\AIX_19_patch_0050.png',\n",
       " 'C:\\\\Users\\\\acicconardi\\\\Documents\\\\Monaco\\\\Immagini\\\\OneDrive_1_6-30-2025\\\\Result\\\\AIX_19_patch_0051.png',\n",
       " 'C:\\\\Users\\\\acicconardi\\\\Documents\\\\Monaco\\\\Immagini\\\\OneDrive_1_6-30-2025\\\\Result\\\\AIX_19_patch_0052.png',\n",
       " 'C:\\\\Users\\\\acicconardi\\\\Documents\\\\Monaco\\\\Immagini\\\\OneDrive_1_6-30-2025\\\\Result\\\\AIX_19_patch_0053.png',\n",
       " 'C:\\\\Users\\\\acicconardi\\\\Documents\\\\Monaco\\\\Immagini\\\\OneDrive_1_6-30-2025\\\\Result\\\\AIX_19_patch_0054.png',\n",
       " 'C:\\\\Users\\\\acicconardi\\\\Documents\\\\Monaco\\\\Immagini\\\\OneDrive_1_6-30-2025\\\\Result\\\\AIX_19_patch_0055.png',\n",
       " 'C:\\\\Users\\\\acicconardi\\\\Documents\\\\Monaco\\\\Immagini\\\\OneDrive_1_6-30-2025\\\\Result\\\\AIX_19_patch_0056.png',\n",
       " 'C:\\\\Users\\\\acicconardi\\\\Documents\\\\Monaco\\\\Immagini\\\\OneDrive_1_6-30-2025\\\\Result\\\\AIX_19_patch_0057.png',\n",
       " 'C:\\\\Users\\\\acicconardi\\\\Documents\\\\Monaco\\\\Immagini\\\\OneDrive_1_6-30-2025\\\\Result\\\\AIX_19_patch_0058.png',\n",
       " 'C:\\\\Users\\\\acicconardi\\\\Documents\\\\Monaco\\\\Immagini\\\\OneDrive_1_6-30-2025\\\\Result\\\\AIX_19_patch_0059.png',\n",
       " 'C:\\\\Users\\\\acicconardi\\\\Documents\\\\Monaco\\\\Immagini\\\\OneDrive_1_6-30-2025\\\\Result\\\\AIX_19_patch_0060.png',\n",
       " 'C:\\\\Users\\\\acicconardi\\\\Documents\\\\Monaco\\\\Immagini\\\\OneDrive_1_6-30-2025\\\\Result\\\\AIX_19_patch_0061.png',\n",
       " 'C:\\\\Users\\\\acicconardi\\\\Documents\\\\Monaco\\\\Immagini\\\\OneDrive_1_6-30-2025\\\\Result\\\\AIX_19_patch_0062.png',\n",
       " 'C:\\\\Users\\\\acicconardi\\\\Documents\\\\Monaco\\\\Immagini\\\\OneDrive_1_6-30-2025\\\\Result\\\\AIX_19_patch_0063.png',\n",
       " 'C:\\\\Users\\\\acicconardi\\\\Documents\\\\Monaco\\\\Immagini\\\\OneDrive_1_6-30-2025\\\\Result\\\\AIX_19_patch_0064.png',\n",
       " 'C:\\\\Users\\\\acicconardi\\\\Documents\\\\Monaco\\\\Immagini\\\\OneDrive_1_6-30-2025\\\\Result\\\\AIX_19_patch_0065.png',\n",
       " 'C:\\\\Users\\\\acicconardi\\\\Documents\\\\Monaco\\\\Immagini\\\\OneDrive_1_6-30-2025\\\\Result\\\\AIX_19_patch_0066.png',\n",
       " 'C:\\\\Users\\\\acicconardi\\\\Documents\\\\Monaco\\\\Immagini\\\\OneDrive_1_6-30-2025\\\\Result\\\\AIX_19_patch_0067.png',\n",
       " 'C:\\\\Users\\\\acicconardi\\\\Documents\\\\Monaco\\\\Immagini\\\\OneDrive_1_6-30-2025\\\\Result\\\\AIX_19_patch_0068.png',\n",
       " 'C:\\\\Users\\\\acicconardi\\\\Documents\\\\Monaco\\\\Immagini\\\\OneDrive_1_6-30-2025\\\\Result\\\\AIX_19_patch_0069.png',\n",
       " 'C:\\\\Users\\\\acicconardi\\\\Documents\\\\Monaco\\\\Immagini\\\\OneDrive_1_6-30-2025\\\\Result\\\\AIX_19_patch_0070.png',\n",
       " 'C:\\\\Users\\\\acicconardi\\\\Documents\\\\Monaco\\\\Immagini\\\\OneDrive_1_6-30-2025\\\\Result\\\\AIX_19_patch_0071.png',\n",
       " 'C:\\\\Users\\\\acicconardi\\\\Documents\\\\Monaco\\\\Immagini\\\\OneDrive_1_6-30-2025\\\\Result\\\\AIX_19_patch_0072.png',\n",
       " 'C:\\\\Users\\\\acicconardi\\\\Documents\\\\Monaco\\\\Immagini\\\\OneDrive_1_6-30-2025\\\\Result\\\\AIX_19_patch_0073.png',\n",
       " 'C:\\\\Users\\\\acicconardi\\\\Documents\\\\Monaco\\\\Immagini\\\\OneDrive_1_6-30-2025\\\\Result\\\\AIX_19_patch_0074.png',\n",
       " 'C:\\\\Users\\\\acicconardi\\\\Documents\\\\Monaco\\\\Immagini\\\\OneDrive_1_6-30-2025\\\\Result\\\\AIX_19_patch_0075.png',\n",
       " 'C:\\\\Users\\\\acicconardi\\\\Documents\\\\Monaco\\\\Immagini\\\\OneDrive_1_6-30-2025\\\\Result\\\\AIX_19_patch_0076.png',\n",
       " 'C:\\\\Users\\\\acicconardi\\\\Documents\\\\Monaco\\\\Immagini\\\\OneDrive_1_6-30-2025\\\\Result\\\\AIX_19_patch_0077.png',\n",
       " 'C:\\\\Users\\\\acicconardi\\\\Documents\\\\Monaco\\\\Immagini\\\\OneDrive_1_6-30-2025\\\\Result\\\\AIX_19_patch_0078.png',\n",
       " 'C:\\\\Users\\\\acicconardi\\\\Documents\\\\Monaco\\\\Immagini\\\\OneDrive_1_6-30-2025\\\\Result\\\\AIX_19_patch_0079.png',\n",
       " 'C:\\\\Users\\\\acicconardi\\\\Documents\\\\Monaco\\\\Immagini\\\\OneDrive_1_6-30-2025\\\\Result\\\\AIX_19_patch_0080.png',\n",
       " 'C:\\\\Users\\\\acicconardi\\\\Documents\\\\Monaco\\\\Immagini\\\\OneDrive_1_6-30-2025\\\\Result\\\\AIX_19_patch_0081.png',\n",
       " 'C:\\\\Users\\\\acicconardi\\\\Documents\\\\Monaco\\\\Immagini\\\\OneDrive_1_6-30-2025\\\\Result\\\\AIX_19_patch_0082.png',\n",
       " 'C:\\\\Users\\\\acicconardi\\\\Documents\\\\Monaco\\\\Immagini\\\\OneDrive_1_6-30-2025\\\\Result\\\\AIX_19_patch_0083.png',\n",
       " 'C:\\\\Users\\\\acicconardi\\\\Documents\\\\Monaco\\\\Immagini\\\\OneDrive_1_6-30-2025\\\\Result\\\\AIX_19_patch_0084.png',\n",
       " 'C:\\\\Users\\\\acicconardi\\\\Documents\\\\Monaco\\\\Immagini\\\\OneDrive_1_6-30-2025\\\\Result\\\\AIX_19_patch_0085.png',\n",
       " 'C:\\\\Users\\\\acicconardi\\\\Documents\\\\Monaco\\\\Immagini\\\\OneDrive_1_6-30-2025\\\\Result\\\\AIX_19_patch_0086.png',\n",
       " 'C:\\\\Users\\\\acicconardi\\\\Documents\\\\Monaco\\\\Immagini\\\\OneDrive_1_6-30-2025\\\\Result\\\\AIX_19_patch_0087.png',\n",
       " 'C:\\\\Users\\\\acicconardi\\\\Documents\\\\Monaco\\\\Immagini\\\\OneDrive_1_6-30-2025\\\\Result\\\\AIX_19_patch_0088.png',\n",
       " 'C:\\\\Users\\\\acicconardi\\\\Documents\\\\Monaco\\\\Immagini\\\\OneDrive_1_6-30-2025\\\\Result\\\\AIX_19_patch_0089.png',\n",
       " 'C:\\\\Users\\\\acicconardi\\\\Documents\\\\Monaco\\\\Immagini\\\\OneDrive_1_6-30-2025\\\\Result\\\\AIX_19_patch_0090.png',\n",
       " 'C:\\\\Users\\\\acicconardi\\\\Documents\\\\Monaco\\\\Immagini\\\\OneDrive_1_6-30-2025\\\\Result\\\\AIX_19_patch_0091.png',\n",
       " 'C:\\\\Users\\\\acicconardi\\\\Documents\\\\Monaco\\\\Immagini\\\\OneDrive_1_6-30-2025\\\\Result\\\\AIX_19_patch_0092.png',\n",
       " 'C:\\\\Users\\\\acicconardi\\\\Documents\\\\Monaco\\\\Immagini\\\\OneDrive_1_6-30-2025\\\\Result\\\\AIX_19_patch_0093.png',\n",
       " 'C:\\\\Users\\\\acicconardi\\\\Documents\\\\Monaco\\\\Immagini\\\\OneDrive_1_6-30-2025\\\\Result\\\\AIX_19_patch_0094.png',\n",
       " 'C:\\\\Users\\\\acicconardi\\\\Documents\\\\Monaco\\\\Immagini\\\\OneDrive_1_6-30-2025\\\\Result\\\\AIX_19_patch_0095.png',\n",
       " 'C:\\\\Users\\\\acicconardi\\\\Documents\\\\Monaco\\\\Immagini\\\\OneDrive_1_6-30-2025\\\\Result\\\\AIX_19_patch_0096.png',\n",
       " 'C:\\\\Users\\\\acicconardi\\\\Documents\\\\Monaco\\\\Immagini\\\\OneDrive_1_6-30-2025\\\\Result\\\\AIX_19_patch_0097.png',\n",
       " 'C:\\\\Users\\\\acicconardi\\\\Documents\\\\Monaco\\\\Immagini\\\\OneDrive_1_6-30-2025\\\\Result\\\\AIX_19_patch_0098.png',\n",
       " 'C:\\\\Users\\\\acicconardi\\\\Documents\\\\Monaco\\\\Immagini\\\\OneDrive_1_6-30-2025\\\\Result\\\\AIX_19_patch_0099.png',\n",
       " 'C:\\\\Users\\\\acicconardi\\\\Documents\\\\Monaco\\\\Immagini\\\\OneDrive_1_6-30-2025\\\\Result\\\\AIX_19_patch_0100.png',\n",
       " 'C:\\\\Users\\\\acicconardi\\\\Documents\\\\Monaco\\\\Immagini\\\\OneDrive_1_6-30-2025\\\\Result\\\\AIX_19_patch_0101.png',\n",
       " 'C:\\\\Users\\\\acicconardi\\\\Documents\\\\Monaco\\\\Immagini\\\\OneDrive_1_6-30-2025\\\\Result\\\\AIX_19_patch_0102.png',\n",
       " 'C:\\\\Users\\\\acicconardi\\\\Documents\\\\Monaco\\\\Immagini\\\\OneDrive_1_6-30-2025\\\\Result\\\\AIX_19_patch_0103.png',\n",
       " 'C:\\\\Users\\\\acicconardi\\\\Documents\\\\Monaco\\\\Immagini\\\\OneDrive_1_6-30-2025\\\\Result\\\\AIX_19_patch_0104.png',\n",
       " 'C:\\\\Users\\\\acicconardi\\\\Documents\\\\Monaco\\\\Immagini\\\\OneDrive_1_6-30-2025\\\\Result\\\\AIX_19_patch_0105.png',\n",
       " 'C:\\\\Users\\\\acicconardi\\\\Documents\\\\Monaco\\\\Immagini\\\\OneDrive_1_6-30-2025\\\\Result\\\\AIX_19_patch_0106.png',\n",
       " 'C:\\\\Users\\\\acicconardi\\\\Documents\\\\Monaco\\\\Immagini\\\\OneDrive_1_6-30-2025\\\\Result\\\\AIX_19_patch_0107.png',\n",
       " 'C:\\\\Users\\\\acicconardi\\\\Documents\\\\Monaco\\\\Immagini\\\\OneDrive_1_6-30-2025\\\\Result\\\\AIX_19_patch_0108.png',\n",
       " 'C:\\\\Users\\\\acicconardi\\\\Documents\\\\Monaco\\\\Immagini\\\\OneDrive_1_6-30-2025\\\\Result\\\\AIX_19_patch_0109.png',\n",
       " 'C:\\\\Users\\\\acicconardi\\\\Documents\\\\Monaco\\\\Immagini\\\\OneDrive_1_6-30-2025\\\\Result\\\\AIX_19_patch_0110.png',\n",
       " 'C:\\\\Users\\\\acicconardi\\\\Documents\\\\Monaco\\\\Immagini\\\\OneDrive_1_6-30-2025\\\\Result\\\\AIX_19_patch_0111.png',\n",
       " 'C:\\\\Users\\\\acicconardi\\\\Documents\\\\Monaco\\\\Immagini\\\\OneDrive_1_6-30-2025\\\\Result\\\\AIX_19_patch_0112.png',\n",
       " 'C:\\\\Users\\\\acicconardi\\\\Documents\\\\Monaco\\\\Immagini\\\\OneDrive_1_6-30-2025\\\\Result\\\\AIX_19_patch_0113.png',\n",
       " 'C:\\\\Users\\\\acicconardi\\\\Documents\\\\Monaco\\\\Immagini\\\\OneDrive_1_6-30-2025\\\\Result\\\\AIX_19_patch_0114.png',\n",
       " 'C:\\\\Users\\\\acicconardi\\\\Documents\\\\Monaco\\\\Immagini\\\\OneDrive_1_6-30-2025\\\\Result\\\\AIX_19_patch_0115.png',\n",
       " 'C:\\\\Users\\\\acicconardi\\\\Documents\\\\Monaco\\\\Immagini\\\\OneDrive_1_6-30-2025\\\\Result\\\\AIX_19_patch_0116.png',\n",
       " 'C:\\\\Users\\\\acicconardi\\\\Documents\\\\Monaco\\\\Immagini\\\\OneDrive_1_6-30-2025\\\\Result\\\\AIX_19_patch_0117.png',\n",
       " 'C:\\\\Users\\\\acicconardi\\\\Documents\\\\Monaco\\\\Immagini\\\\OneDrive_1_6-30-2025\\\\Result\\\\AIX_19_patch_0118.png',\n",
       " 'C:\\\\Users\\\\acicconardi\\\\Documents\\\\Monaco\\\\Immagini\\\\OneDrive_1_6-30-2025\\\\Result\\\\AIX_19_patch_0119.png',\n",
       " 'C:\\\\Users\\\\acicconardi\\\\Documents\\\\Monaco\\\\Immagini\\\\OneDrive_1_6-30-2025\\\\Result\\\\AIX_19_patch_0120.png',\n",
       " 'C:\\\\Users\\\\acicconardi\\\\Documents\\\\Monaco\\\\Immagini\\\\OneDrive_1_6-30-2025\\\\Result\\\\AIX_19_patch_0121.png',\n",
       " 'C:\\\\Users\\\\acicconardi\\\\Documents\\\\Monaco\\\\Immagini\\\\OneDrive_1_6-30-2025\\\\Result\\\\AIX_19_patch_0122.png',\n",
       " 'C:\\\\Users\\\\acicconardi\\\\Documents\\\\Monaco\\\\Immagini\\\\OneDrive_1_6-30-2025\\\\Result\\\\AIX_19_patch_0123.png',\n",
       " 'C:\\\\Users\\\\acicconardi\\\\Documents\\\\Monaco\\\\Immagini\\\\OneDrive_1_6-30-2025\\\\Result\\\\AIX_19_patch_0124.png',\n",
       " 'C:\\\\Users\\\\acicconardi\\\\Documents\\\\Monaco\\\\Immagini\\\\OneDrive_1_6-30-2025\\\\Result\\\\AIX_19_patch_0125.png',\n",
       " 'C:\\\\Users\\\\acicconardi\\\\Documents\\\\Monaco\\\\Immagini\\\\OneDrive_1_6-30-2025\\\\Result\\\\AIX_19_patch_0126.png',\n",
       " 'C:\\\\Users\\\\acicconardi\\\\Documents\\\\Monaco\\\\Immagini\\\\OneDrive_1_6-30-2025\\\\Result\\\\AIX_19_patch_0127.png',\n",
       " 'C:\\\\Users\\\\acicconardi\\\\Documents\\\\Monaco\\\\Immagini\\\\OneDrive_1_6-30-2025\\\\Result\\\\AIX_19_patch_0128.png',\n",
       " 'C:\\\\Users\\\\acicconardi\\\\Documents\\\\Monaco\\\\Immagini\\\\OneDrive_1_6-30-2025\\\\Result\\\\AIX_19_patch_0129.png',\n",
       " 'C:\\\\Users\\\\acicconardi\\\\Documents\\\\Monaco\\\\Immagini\\\\OneDrive_1_6-30-2025\\\\Result\\\\AIX_19_patch_0130.png',\n",
       " 'C:\\\\Users\\\\acicconardi\\\\Documents\\\\Monaco\\\\Immagini\\\\OneDrive_1_6-30-2025\\\\Result\\\\AIX_19_patch_0131.png',\n",
       " 'C:\\\\Users\\\\acicconardi\\\\Documents\\\\Monaco\\\\Immagini\\\\OneDrive_1_6-30-2025\\\\Result\\\\AIX_19_patch_0132.png',\n",
       " 'C:\\\\Users\\\\acicconardi\\\\Documents\\\\Monaco\\\\Immagini\\\\OneDrive_1_6-30-2025\\\\Result\\\\AIX_19_patch_0133.png',\n",
       " 'C:\\\\Users\\\\acicconardi\\\\Documents\\\\Monaco\\\\Immagini\\\\OneDrive_1_6-30-2025\\\\Result\\\\AIX_19_patch_0134.png',\n",
       " 'C:\\\\Users\\\\acicconardi\\\\Documents\\\\Monaco\\\\Immagini\\\\OneDrive_1_6-30-2025\\\\Result\\\\AIX_19_patch_0135.png',\n",
       " 'C:\\\\Users\\\\acicconardi\\\\Documents\\\\Monaco\\\\Immagini\\\\OneDrive_1_6-30-2025\\\\Result\\\\AIX_19_patch_0136.png',\n",
       " 'C:\\\\Users\\\\acicconardi\\\\Documents\\\\Monaco\\\\Immagini\\\\OneDrive_1_6-30-2025\\\\Result\\\\AIX_19_patch_0137.png',\n",
       " 'C:\\\\Users\\\\acicconardi\\\\Documents\\\\Monaco\\\\Immagini\\\\OneDrive_1_6-30-2025\\\\Result\\\\AIX_19_patch_0138.png',\n",
       " 'C:\\\\Users\\\\acicconardi\\\\Documents\\\\Monaco\\\\Immagini\\\\OneDrive_1_6-30-2025\\\\Result\\\\AIX_19_patch_0139.png']"
      ]
     },
     "execution_count": 4,
     "metadata": {},
     "output_type": "execute_result"
    }
   ],
   "source": [
    "extract_patches_from_tif(\n",
    "    file_path=r\"C:\\Users\\acicconardi\\Documents\\Monaco\\Immagini\\OneDrive_1_6-30-2025\\PlainImages\\AIX_19.tif\",\n",
    "    save_dir=r\"C:\\Users\\acicconardi\\Documents\\Monaco\\Immagini\\OneDrive_1_6-30-2025\\Result\",\n",
    "    overlap=0,       # pixel di sovrapposizione (0 = non‑overlapping)\n",
    "    viz_crop=True,    # True = salva PNG con il riquadro del crop\n",
    "    patch_um=4.0\n",
    ")"
   ]
  },
  {
   "cell_type": "code",
   "execution_count": 2,
   "id": "f0e3b483-5535-4ed4-9411-1d45a75df0cf",
   "metadata": {},
   "outputs": [
    {
     "name": "stdout",
     "output_type": "stream",
     "text": [
      "Detector pixel size    : 55.82 nm\n",
      "Image pixel size (used): 55.82 nm\n"
     ]
    }
   ],
   "source": [
    "meta = read_sem_metadata(r\"C:\\Users\\acicconardi\\Documents\\Monaco\\Immagini\\OneDrive_1_6-30-2025\\PlainImages\\AIX_19.tif\")\n",
    "print(\"Detector pixel size    :\", meta.get(\"pixel_size_raw\"))\n",
    "print(\"Image pixel size (used):\", meta[\"pixel_size\"], meta[\"pixel_unit\"])"
   ]
  },
  {
   "cell_type": "code",
   "execution_count": null,
   "id": "4df1f876-cc13-4eeb-aba6-9b57b73d23f7",
   "metadata": {},
   "outputs": [],
   "source": [
    "meta"
   ]
  }
 ],
 "metadata": {
  "kernelspec": {
   "display_name": "Python 3 (ipykernel)",
   "language": "python",
   "name": "python3"
  },
  "language_info": {
   "codemirror_mode": {
    "name": "ipython",
    "version": 3
   },
   "file_extension": ".py",
   "mimetype": "text/x-python",
   "name": "python",
   "nbconvert_exporter": "python",
   "pygments_lexer": "ipython3",
   "version": "3.9.21"
  }
 },
 "nbformat": 4,
 "nbformat_minor": 5
}
